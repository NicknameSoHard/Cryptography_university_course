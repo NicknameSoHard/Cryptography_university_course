{
 "cells": [
  {
   "cell_type": "code",
   "execution_count": 1,
   "metadata": {},
   "outputs": [],
   "source": [
    "input_data = '19367831362e3d2b2c353d362c783136783336372f343d3c3f3d7839342f39212b782839212b782c303d783a3d2b2c7831362c3d2a3d2b2c'\n",
    "\n",
    "# В английском самые частые символы пробел, E и T. В данном случае пробел подошел\n",
    "whitespace_charcode = 0x20"
   ]
  },
  {
   "cell_type": "code",
   "execution_count": 2,
   "metadata": {},
   "outputs": [
    {
     "name": "stdout",
     "output_type": "stream",
     "text": [
      "[25, 54, 120, 49, 54, 46, 61, 43, 44, 53, 61, 54, 44, 120, 49, 54, 120, 51, 54, 55, 47, 52, 61, 60, 63, 61, 120, 57, 52, 47, 57, 33, 43, 120, 40, 57, 33, 43, 120, 44, 48, 61, 120, 58, 61, 43, 44, 120, 49, 54, 44, 61, 42, 61, 43, 44]\n"
     ]
    }
   ],
   "source": [
    "# переводим массив в десятичные значения\n",
    "\n",
    "split_by_step = lambda l, step: [l[index: index+step] for index in range(0, len(l), step)]\n",
    "input_bytes = split_by_step(input_data, 2)\n",
    "input_10 = list(map(lambda x: int(x, 16), input_bytes))\n",
    "print(input_10)"
   ]
  },
  {
   "cell_type": "code",
   "execution_count": 3,
   "metadata": {
    "scrolled": true
   },
   "outputs": [
    {
     "data": {
      "text/plain": [
       "120"
      ]
     },
     "execution_count": 3,
     "metadata": {},
     "output_type": "execute_result"
    }
   ],
   "source": [
    "from collections import Counter\n",
    "\n",
    "# Считаем частоту символов и выбираем самый частый\n",
    "count_elements = Counter(input_10)\n",
    "most_common_element, counts = count_elements.most_common(1)[0]\n",
    "most_common_element"
   ]
  },
  {
   "cell_type": "code",
   "execution_count": 4,
   "metadata": {},
   "outputs": [
    {
     "data": {
      "text/plain": [
       "88"
      ]
     },
     "execution_count": 4,
     "metadata": {},
     "output_type": "execute_result"
    }
   ],
   "source": [
    "key = most_common_element ^ whitespace_charcode\n",
    "key"
   ]
  },
  {
   "cell_type": "code",
   "execution_count": 5,
   "metadata": {},
   "outputs": [
    {
     "name": "stdout",
     "output_type": "stream",
     "text": [
      "Найденный ключ X\n"
     ]
    }
   ],
   "source": [
    "# XOR самого частого символа с кодом пробельного\n",
    "key = most_common_element ^ whitespace_charcode\n",
    "print(f\"Найденный ключ {chr(key)}\")"
   ]
  },
  {
   "cell_type": "code",
   "execution_count": 6,
   "metadata": {},
   "outputs": [
    {
     "name": "stdout",
     "output_type": "stream",
     "text": [
      "An investment in knowledge always pays the best interest\n"
     ]
    }
   ],
   "source": [
    "# Получаем исходное сообщение\n",
    "message_codes = [int(char) ^ key for char in input_10]\n",
    "final_message = ''.join(map(lambda x: chr(x), message_codes))\n",
    "print(final_message)"
   ]
  }
 ],
 "metadata": {
  "kernelspec": {
   "display_name": "Python 3",
   "language": "python",
   "name": "python3"
  },
  "language_info": {
   "codemirror_mode": {
    "name": "ipython",
    "version": 3
   },
   "file_extension": ".py",
   "mimetype": "text/x-python",
   "name": "python",
   "nbconvert_exporter": "python",
   "pygments_lexer": "ipython3",
   "version": "3.7.6"
  }
 },
 "nbformat": 4,
 "nbformat_minor": 4
}
