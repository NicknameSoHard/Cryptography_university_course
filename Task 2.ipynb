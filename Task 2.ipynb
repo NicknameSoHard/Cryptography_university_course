{
 "cells": [
  {
   "cell_type": "code",
   "execution_count": 1,
   "metadata": {},
   "outputs": [],
   "source": [
    "buffer_1 = '506561636520416c6c204f7665722054686520576f726c64'\n",
    "buffer_2 = '4949544353551c0111001f010100061a021f010100061a02'\n",
    "check_result = '192C352036755D6D7D2050776472264E6A7A21566F747666'"
   ]
  },
  {
   "cell_type": "code",
   "execution_count": 2,
   "metadata": {},
   "outputs": [
    {
     "name": "stdout",
     "output_type": "stream",
     "text": [
      "192C352036755D6D7D2050776472264E6A7A21566F747666\n"
     ]
    }
   ],
   "source": [
    "# Переводим из 16-ричной системы в десятичную, производим операцию XOR и возвращаем обратно\n",
    "result = ''\n",
    "\n",
    "buffer_len = len(buffer_1)\n",
    "for index in range(buffer_len):\n",
    "    buffer_1_byte = int(buffer_1[index], 16)\n",
    "    buffer_2_byte = int(buffer_2[index], 16)\n",
    "    x_o_r = buffer_1_byte ^ buffer_2_byte\n",
    "    result_in_hex = str(hex(x_o_r)[2:]).upper()\n",
    "    result += result_in_hex\n",
    "    \n",
    "print(result)"
   ]
  },
  {
   "cell_type": "code",
   "execution_count": 3,
   "metadata": {},
   "outputs": [
    {
     "name": "stdout",
     "output_type": "stream",
     "text": [
      "Последовательности совпали\n"
     ]
    }
   ],
   "source": [
    "if check_result == result:\n",
    "    print('Последовательности совпали')"
   ]
  }
 ],
 "metadata": {
  "kernelspec": {
   "display_name": "Python 3",
   "language": "python",
   "name": "python3"
  },
  "language_info": {
   "codemirror_mode": {
    "name": "ipython",
    "version": 3
   },
   "file_extension": ".py",
   "mimetype": "text/x-python",
   "name": "python",
   "nbconvert_exporter": "python",
   "pygments_lexer": "ipython3",
   "version": "3.7.6"
  }
 },
 "nbformat": 4,
 "nbformat_minor": 4
}
