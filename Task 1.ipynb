{
 "cells": [
  {
   "cell_type": "code",
   "execution_count": 4,
   "metadata": {},
   "outputs": [],
   "source": [
    "input_data = '49276d207374756479696e672043727970746f677261706879206c696b6520436c6175646520456c776f6f64205368616e6e6f6e21'\n",
    "\n",
    "check_result = 'SSdtIHN0dWR5aW5nIENyeXB0b2dyYXBoeSBsaWtlIENsYXVkZSBFbHdvb2QgU2hhbm5vbiE='"
   ]
  },
  {
   "cell_type": "code",
   "execution_count": 5,
   "metadata": {},
   "outputs": [
    {
     "name": "stdout",
     "output_type": "stream",
     "text": [
      "['49', '27', '6d', '20', '73', '74', '75', '64', '79', '69', '6e', '67', '20', '43', '72', '79', '70', '74', '6f', '67', '72', '61', '70', '68', '79', '20', '6c', '69', '6b', '65', '20', '43', '6c', '61', '75', '64', '65', '20', '45', '6c', '77', '6f', '6f', '64', '20', '53', '68', '61', '6e', '6e', '6f', '6e', '21']\n"
     ]
    }
   ],
   "source": [
    "# Вспомогательная функция нарезки массива l на части размера step\n",
    "split_by_step = lambda l, step: [l[index: index+step] for index in range(0, len(l), step)]\n",
    "\n",
    "input_bytes = split_by_step(input_data, 2)\n",
    "print(input_bytes)"
   ]
  },
  {
   "cell_type": "code",
   "execution_count": 6,
   "metadata": {},
   "outputs": [
    {
     "name": "stdout",
     "output_type": "stream",
     "text": [
      "['01001001', '00100111', '01101101', '00100000', '01110011', '01110100', '01110101', '01100100', '01111001', '01101001', '01101110', '01100111', '00100000', '01000011', '01110010', '01111001', '01110000', '01110100', '01101111', '01100111', '01110010', '01100001', '01110000', '01101000', '01111001', '00100000', '01101100', '01101001', '01101011', '01100101', '00100000', '01000011', '01101100', '01100001', '01110101', '01100100', '01100101', '00100000', '01000101', '01101100', '01110111', '01101111', '01101111', '01100100', '00100000', '01010011', '01101000', '01100001', '01101110', '01101110', '01101111', '01101110', '00100001']\n"
     ]
    }
   ],
   "source": [
    "# Разбиваем исходную строку на 2 символа и переводим в биты, округляя каждый до длины 8 (если потребуется)\n",
    "bitseq = [f\"{int(i, 16):08b}\" for i in input_bytes]\n",
    "print(bitseq)"
   ]
  },
  {
   "cell_type": "code",
   "execution_count": 7,
   "metadata": {},
   "outputs": [
    {
     "data": {
      "text/plain": [
       "'010010010010011101101101001000000111001101110100011101010110010001111001011010010110111001100111001000000100001101110010011110010111000001110100011011110110011101110010011000010111000001101000011110010010000001101100011010010110101101100101001000000100001101101100011000010111010101100100011001010010000001000101011011000111011101101111011011110110010000100000010100110110100001100001011011100110111001101111011011100010000100'"
      ]
     },
     "execution_count": 7,
     "metadata": {},
     "output_type": "execute_result"
    }
   ],
   "source": [
    "# Склеиваем все биты в одну строку и добавляем нули пока длина не будет делиться на 6 без остатка\n",
    "bitmap = ''.join(bitseq)\n",
    "\n",
    "added_char = 0\n",
    "step = 6\n",
    "\n",
    "needed_char = len(bitmap) % step\n",
    "if needed_char:\n",
    "    bitmap += '0' * (step - needed_char)\n",
    "\n",
    "bitmap"
   ]
  },
  {
   "cell_type": "code",
   "execution_count": 8,
   "metadata": {},
   "outputs": [
    {
     "name": "stdout",
     "output_type": "stream",
     "text": [
      "[18, 18, 29, 45, 8, 7, 13, 52, 29, 22, 17, 57, 26, 22, 57, 39, 8, 4, 13, 50, 30, 23, 1, 52, 27, 54, 29, 50, 24, 23, 1, 40, 30, 18, 1, 44, 26, 22, 45, 37, 8, 4, 13, 44, 24, 23, 21, 36, 25, 18, 1, 5, 27, 7, 29, 47, 27, 54, 16, 32, 20, 54, 33, 33, 27, 38, 57, 47, 27, 34, 4]\n"
     ]
    }
   ],
   "source": [
    "# разбиваем на части по 6 бит и переводим в десятичные индексы\n",
    "basemap = split_by_step(bitmap, step)\n",
    "\n",
    "char_codes = [int(code_char, 2) for code_char in basemap]\n",
    "print(char_codes)"
   ]
  },
  {
   "cell_type": "code",
   "execution_count": 6,
   "metadata": {},
   "outputs": [
    {
     "data": {
      "text/plain": [
       "'SSdtIHN0dWR5aW5nIENyeXB0b2dyYXBoeSBsaWtlIENsYXVkZSBFbHdvb2QgU2hhbm5vbiE='"
      ]
     },
     "execution_count": 6,
     "metadata": {},
     "output_type": "execute_result"
    }
   ],
   "source": [
    "# Кодируем все 6-ти битовые последовательности в одну строку ASCI и добавляем '=' если ранее прибавлялись нули \n",
    "base64_alphabet = 'ABCDEFGHIJKLMNOPQRSTUVWXYZabcdefghijklmnopqrstuvwxyz0123456789+/'\n",
    "\n",
    "result_str = ''.join([base64_alphabet[index_char] for index_char in char_codes])\n",
    "result = f\"{result_str}{'=' if needed_char else ''}\"\n",
    "result"
   ]
  },
  {
   "cell_type": "code",
   "execution_count": 7,
   "metadata": {},
   "outputs": [
    {
     "name": "stdout",
     "output_type": "stream",
     "text": [
      "Последовательности совпали\n"
     ]
    }
   ],
   "source": [
    "if check_result == result:\n",
    "    print('Последовательности совпали')"
   ]
  }
 ],
 "metadata": {
  "kernelspec": {
   "display_name": "Python 3",
   "language": "python",
   "name": "python3"
  },
  "language_info": {
   "codemirror_mode": {
    "name": "ipython",
    "version": 3
   },
   "file_extension": ".py",
   "mimetype": "text/x-python",
   "name": "python",
   "nbconvert_exporter": "python",
   "pygments_lexer": "ipython3",
   "version": "3.7.6"
  }
 },
 "nbformat": 4,
 "nbformat_minor": 4
}
