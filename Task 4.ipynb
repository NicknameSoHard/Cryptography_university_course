{
 "cells": [
  {
   "cell_type": "code",
   "execution_count": 1,
   "metadata": {},
   "outputs": [],
   "source": [
    "import os\n",
    "import re\n",
    "\n",
    "from collections import Counter"
   ]
  },
  {
   "cell_type": "code",
   "execution_count": 2,
   "metadata": {},
   "outputs": [],
   "source": [
    "words_finder_re = re.compile(r'\\w[ a-zA-ZА-Яа-я-.?!)(,:;]+')\n",
    "split_by_step = lambda l, step: [l[index: index+step] for index in range(0, len(l), step)]\n",
    "\n",
    "def str_to_10_codes(string_input):\n",
    "    input_bytes = split_by_step(string_input, 2)\n",
    "    return list(map(lambda x: int(x, 16), input_bytes))\n",
    "\n",
    "\n",
    "def decrypt_string(text):\n",
    "    count_elements = Counter(text)\n",
    "    \n",
    "    ascii_symbols = list(range(1, 256)) #[hex(i) for i in range(256)]\n",
    "    for charcode in ascii_symbols:\n",
    "        for element, count in count_elements.most_common(3):\n",
    "    \n",
    "            key = element ^ charcode\n",
    "            message_codes = [int(char) ^ key for char in text]\n",
    "            final_message = ''.join(map(lambda x: chr(x), message_codes))\n",
    "            \n",
    "            check_final_string = re.match(words_finder_re, final_message)\n",
    "            if check_final_string is not None:\n",
    "                \n",
    "                re_string = check_final_string.group(0)\n",
    "                if len(re_string) >= len(text):\n",
    "                    key_symbol = chr(key)\n",
    "                    return key_symbol, final_message\n",
    "    return None"
   ]
  },
  {
   "cell_type": "code",
   "execution_count": 3,
   "metadata": {},
   "outputs": [
    {
     "name": "stdout",
     "output_type": "stream",
     "text": [
      "Обработан файл task140.input: Найдем ключ a, финальная строка: Kakim umnym ja sebja chuvstvuu\n",
      "Обработан файл task141.input: Найдем ключ 5, финальная строка: Now that the party is jumping\n",
      "Обработан файл task142.input: Найдем ключ a, финальная строка: Kakim umnym ja sebja chuvstvuu\n"
     ]
    }
   ],
   "source": [
    "import os\n",
    "\n",
    "files = [file for file in os.listdir('.') if file.startswith('task14') and file.endswith('.input')]\n",
    "\n",
    "\n",
    "for file in files:\n",
    "    # Разбиваем файл на строки по символам переноса\n",
    "    with open(file, 'r') as f:\n",
    "        input_data = [line for line in f.read().split('\\n') if line]\n",
    "    \n",
    "    # переводим все строки в десятичную систему\n",
    "    data_10 = list(map(str_to_10_codes, input_data))\n",
    "    \n",
    "    # Для каждой строки собираем статистику, 3 самых частых элементов проверяем их на XOR\n",
    "    # Если они дают осмысленную строку, то выходим из цикла\n",
    "    res, key, res_str = None, None, None\n",
    "    for line in data_10:\n",
    "        res = decrypt_string(line)\n",
    "        if res is not None:\n",
    "            key, res_str = res\n",
    "            res_str = res_str.replace('\\n', '')\n",
    "            result = f\"Найдем ключ {key}, финальная строка: {res_str}\"\n",
    "            break\n",
    "\n",
    "    if res is None:\n",
    "        result = 'Ничего не нашлось'\n",
    "        \n",
    "    print(f\"Обработан файл {file}: {result}\")"
   ]
  }
 ],
 "metadata": {
  "kernelspec": {
   "display_name": "Python 3",
   "language": "python",
   "name": "python3"
  },
  "language_info": {
   "codemirror_mode": {
    "name": "ipython",
    "version": 3
   },
   "file_extension": ".py",
   "mimetype": "text/x-python",
   "name": "python",
   "nbconvert_exporter": "python",
   "pygments_lexer": "ipython3",
   "version": "3.7.6"
  }
 },
 "nbformat": 4,
 "nbformat_minor": 4
}
